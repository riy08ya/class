{
  "nbformat": 4,
  "nbformat_minor": 0,
  "metadata": {
    "colab": {
      "provenance": [],
      "include_colab_link": true
    },
    "kernelspec": {
      "name": "python3",
      "display_name": "Python 3"
    },
    "language_info": {
      "name": "python"
    }
  },
  "cells": [
    {
      "cell_type": "markdown",
      "metadata": {
        "id": "view-in-github",
        "colab_type": "text"
      },
      "source": [
        "<a href=\"https://colab.research.google.com/github/riy08ya/class/blob/main/Copy_of_TugasClass.ipynb\" target=\"_parent\"><img src=\"https://colab.research.google.com/assets/colab-badge.svg\" alt=\"Open In Colab\"/></a>"
      ]
    },
    {
      "cell_type": "markdown",
      "source": [
        "Lengkapilah class-class berikut ini."
      ],
      "metadata": {
        "id": "V6n6i25pQnla"
      }
    },
    {
      "cell_type": "markdown",
      "source": [
        "Class Senjata memiliki 2 atribut atribut nama dan poin serta fungsi tembak(). Fungsi tembak mencetak teks \"Dorr\". Dan class senjata ini memiliki konstruktor."
      ],
      "metadata": {
        "id": "DoZvmdSTSDPa"
      }
    },
    {
      "cell_type": "code",
      "source": [
        "class Senjata:\n",
        "  def __init__(self, nama, poin):\n",
        "     self.nama = nama\n",
        "     self.poin = poin\n",
        "  def tembak(self):\n",
        "    print(\"DOR!!\")"
      ],
      "metadata": {
        "id": "NYeV0w-FR6mf"
      },
      "execution_count": 1,
      "outputs": []
    },
    {
      "cell_type": "code",
      "execution_count": 2,
      "metadata": {
        "id": "JC6f_oE5Qhjt"
      },
      "outputs": [],
      "source": [
        "class Player:\n",
        "  def __init__(self, id, nama, skor, nyawa, senjata):\n",
        "    self.id = id\n",
        "    self.nama = nama\n",
        "    self.skor = skor\n",
        "    self.nyawa = nyawa\n",
        "    self.senjata = senjata\n",
        "\n",
        "  def mulai(self):\n",
        "    print(f'Player {self.nama} dengan skor {self.skor}')\n",
        "    print(f'Memiliki senjata {self.senjata.nama} dengan poin {self.senjata.poin}')\n",
        "\n",
        "  def move(self):\n",
        "    print(\"BOYAHH\")\n",
        "\n",
        "  def set_skor(self, tambah_skor):\n",
        "    self.skor += tambah_skor\n",
        "\n",
        "  def get_skor(self):\n",
        "    return self.skor"
      ]
    },
    {
      "cell_type": "markdown",
      "source": [
        "Terakhir cobalah kedua class tersebut dengan kode program berikut ini."
      ],
      "metadata": {
        "id": "miQK-cUqKAJe"
      }
    },
    {
      "cell_type": "code",
      "source": [
        "player1 = Player(\n",
        "    id = 1,\n",
        "    nama = 'RIYA',\n",
        "    skor = 3,\n",
        "    nyawa = 5,\n",
        "    senjata = Senjata(nama='Pistol', poin = 10))\n",
        "player1.mulai()\n",
        "player1.move()\n",
        "player1.senjata.tembak()"
      ],
      "metadata": {
        "id": "b-sH4vg5KE1p",
        "colab": {
          "base_uri": "https://localhost:8080/"
        },
        "outputId": "feaa9f03-892c-4b97-b633-c588be6dc492"
      },
      "execution_count": 4,
      "outputs": [
        {
          "output_type": "stream",
          "name": "stdout",
          "text": [
            "Player RIYA dengan skor 3\n",
            "Memiliki senjata Pistol dengan poin 10\n",
            "BOYAHH\n",
            "DOR!!\n"
          ]
        }
      ]
    }
  ]
}