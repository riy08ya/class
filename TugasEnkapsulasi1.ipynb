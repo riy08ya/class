{
  "nbformat": 4,
  "nbformat_minor": 0,
  "metadata": {
    "colab": {
      "provenance": [],
      "include_colab_link": true
    },
    "kernelspec": {
      "name": "python3",
      "display_name": "Python 3"
    },
    "language_info": {
      "name": "python"
    }
  },
  "cells": [
    {
      "cell_type": "markdown",
      "metadata": {
        "id": "view-in-github",
        "colab_type": "text"
      },
      "source": [
        "<a href=\"https://colab.research.google.com/github/riy08ya/class/blob/main/TugasEnkapsulasi1.ipynb\" target=\"_parent\"><img src=\"https://colab.research.google.com/assets/colab-badge.svg\" alt=\"Open In Colab\"/></a>"
      ]
    },
    {
      "cell_type": "code",
      "execution_count": null,
      "metadata": {
        "id": "ihePdlIsSR5E"
      },
      "outputs": [],
      "source": [
        "class Karyawan:\n",
        "  def __init__(self, nama, gaji):\n",
        "    #Deklarasi dan inisialisai variabel privat untuk nama\n",
        "    self.__nama = nama\n",
        "    #Deklarasi dan inisialisai variabel privat untuk gaji\n",
        "    self.__gaji = gaji\n",
        "\n",
        "  # Fungsi untuk mengakses nama\n",
        "  def get_nama(self):\n",
        "    return self.__nama\n",
        "\n",
        "  # Fungsi untuk mengubah nama\n",
        "  def set_nama(self, nama):\n",
        "    self.__nama = nama\n",
        "\n",
        "  # Fungsi untuk mengakses gaji\n",
        "  def get_gaji(self):\n",
        "    #lengkapi\n",
        "\n",
        "  # Fungsi untuk mengubah gaji\n",
        "  def set_gaji(self, gaji):\n",
        "    #lengkapi"
      ]
    },
    {
      "cell_type": "code",
      "source": [
        "# Membuat objek Karyawan dengan nama Ahmad dengan gaji 4000000\n",
        "karyawan1 = Karyawan('Ahmad', 4000000)\n",
        "\n",
        "# Mengakses/menampilkan nama dan gaji menggunakan fungsi\n",
        "print(karyawan.get_nama())\n",
        "\n",
        "# Mengubah nama menjadi nama anda masing-masing dan gaji bebas menggunakan fungsi\n",
        "karyawan1.set_nama('Arif')\n",
        "\n",
        "\n",
        "# Mengakses/menampilkan nama dan gaji setelah diubah\n"
      ],
      "metadata": {
        "id": "aOwy6rfdSga2"
      },
      "execution_count": null,
      "outputs": []
    }
  ]
}