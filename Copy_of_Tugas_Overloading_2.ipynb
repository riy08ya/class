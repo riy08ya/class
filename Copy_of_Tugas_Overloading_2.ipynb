{
  "nbformat": 4,
  "nbformat_minor": 0,
  "metadata": {
    "colab": {
      "provenance": [],
      "include_colab_link": true
    },
    "kernelspec": {
      "name": "python3",
      "display_name": "Python 3"
    },
    "language_info": {
      "name": "python"
    }
  },
  "cells": [
    {
      "cell_type": "markdown",
      "metadata": {
        "id": "view-in-github",
        "colab_type": "text"
      },
      "source": [
        "<a href=\"https://colab.research.google.com/github/riy08ya/class/blob/main/Copy_of_Tugas_Overloading_2.ipynb\" target=\"_parent\"><img src=\"https://colab.research.google.com/assets/colab-badge.svg\" alt=\"Open In Colab\"/></a>"
      ]
    },
    {
      "cell_type": "code",
      "execution_count": 7,
      "metadata": {
        "id": "5zCytCeM1uD4"
      },
      "outputs": [],
      "source": [
        "#class Nama\n",
        "class nama:\n",
        "  #Buat fungsi yang digunakan untuk mengabungkan nama dengan ketentuan nama depan, nama tengah, nama akhir, dan seterusnya dianggap 1 (satu) parameter\n",
        "  def gabung(self, *args):\n",
        "    if(len(args) <=4):\n",
        "      sum =''\n",
        "      for num in args:\n",
        "        sum += num\n",
        "        print(sum)\n",
        "    else:\n",
        "      print(\"maksimum\")"
      ]
    },
    {
      "cell_type": "code",
      "source": [
        "#Buat main program\n",
        "hasil = nama()\n",
        "#Panggil fungsi untuk membuat nama lengkap 5 nama teman kalian\n",
        "hasil.gabung(\"Riya\", \"Agustin\")\n",
        "hasil.gabung(\"Aulia\", \"Putri\", \"Mashita\")\n",
        "hasil.gabung(\"Neyla\", \"Ayudya\", \"Alfi\", \"Syafa\")\n",
        "hasil.gabung(\"Sania\", \"Regita\", \"Prahesti\")\n",
        "hasil.gabung(\"Sutriyani\")"
      ],
      "metadata": {
        "id": "liQBcJWZ12MN",
        "colab": {
          "base_uri": "https://localhost:8080/"
        },
        "outputId": "8140edee-95eb-4ffb-b452-13a7418ba9d0"
      },
      "execution_count": 8,
      "outputs": [
        {
          "output_type": "stream",
          "name": "stdout",
          "text": [
            "Riya\n",
            "RiyaAgustin\n",
            "Aulia\n",
            "AuliaPutri\n",
            "AuliaPutriMashita\n",
            "Neyla\n",
            "NeylaAyudya\n",
            "NeylaAyudyaAlfi\n",
            "NeylaAyudyaAlfiSyafa\n",
            "Sania\n",
            "SaniaRegita\n",
            "SaniaRegitaPrahesti\n",
            "Sutriyani\n"
          ]
        }
      ]
    },
    {
      "cell_type": "code",
      "source": [
        "#Tulisakan kesimpulan dari materi Overloading menurut pemahaman anda!\n",
        "#Menurut Saya materi OVERLOADING ini kita bisa membuat sebuah method yang bisa menangani beberapa variasi jumlah parameter."
      ],
      "metadata": {
        "id": "xwFmppIG3JGE"
      },
      "execution_count": 10,
      "outputs": []
    }
  ]
}