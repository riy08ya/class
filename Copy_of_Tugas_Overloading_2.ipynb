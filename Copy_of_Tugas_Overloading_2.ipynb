{
  "nbformat": 4,
  "nbformat_minor": 0,
  "metadata": {
    "colab": {
      "provenance": [],
      "include_colab_link": true
    },
    "kernelspec": {
      "name": "python3",
      "display_name": "Python 3"
    },
    "language_info": {
      "name": "python"
    }
  },
  "cells": [
    {
      "cell_type": "markdown",
      "metadata": {
        "id": "view-in-github",
        "colab_type": "text"
      },
      "source": [
        "<a href=\"https://colab.research.google.com/github/riy08ya/class/blob/main/Copy_of_Tugas_Overloading_2.ipynb\" target=\"_parent\"><img src=\"https://colab.research.google.com/assets/colab-badge.svg\" alt=\"Open In Colab\"/></a>"
      ]
    },
    {
      "cell_type": "code",
      "execution_count": 11,
      "metadata": {
        "id": "5zCytCeM1uD4"
      },
      "outputs": [],
      "source": [
        "#class Nama\n",
        "class nama:\n",
        "  #Buat fungsi yang digunakan untuk mengabungkan nama dengan ketentuan nama depan, nama tengah, nama akhir, dan seterusnya dianggap 1 (satu) parameter\n",
        "  def gabung(self, *args):\n",
        "    if(len(args) <=4):\n",
        "      sum =''\n",
        "      for num in args:\n",
        "        sum += num\n",
        "      print(sum)\n",
        "    else:\n",
        "      print(\"maksimum\")"
      ]
    },
    {
      "cell_type": "code",
      "source": [
        "#Buat main program\n",
        "hasil = nama()\n",
        "#Panggil fungsi untuk membuat nama lengkap 5 nama teman kalian\n",
        "hasil.gabung(\"Riya \", \"Agustin\")\n",
        "hasil.gabung(\"Aulia \", \"Putri \", \"Mashita\")\n",
        "hasil.gabung(\"Neyla \", \"Ayudya \", \"Alfi \", \"Syafa\")\n",
        "hasil.gabung(\"Sania \", \"Regita \", \"Prahesti\")\n",
        "hasil.gabung(\"Sutriyani\")"
      ],
      "metadata": {
        "id": "liQBcJWZ12MN",
        "colab": {
          "base_uri": "https://localhost:8080/"
        },
        "outputId": "9de369de-5aa9-4029-bc27-4fdfe67341c3"
      },
      "execution_count": 13,
      "outputs": [
        {
          "output_type": "stream",
          "name": "stdout",
          "text": [
            "Riya Agustin\n",
            "Aulia Putri Mashita\n",
            "Neyla Ayudya Alfi Syafa\n",
            "Sania Regita Prahesti\n",
            "Sutriyani\n"
          ]
        }
      ]
    },
    {
      "cell_type": "code",
      "source": [
        "#Tulisakan kesimpulan dari materi Overloading menurut pemahaman anda!\n",
        "#Menurut Saya materi OVERLOADING ini kita bisa membuat sebuah method yang bisa menangani beberapa variasi jumlah parameter."
      ],
      "metadata": {
        "id": "xwFmppIG3JGE"
      },
      "execution_count": null,
      "outputs": []
    }
  ]
}