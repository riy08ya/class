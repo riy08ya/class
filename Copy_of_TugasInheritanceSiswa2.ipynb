{
  "nbformat": 4,
  "nbformat_minor": 0,
  "metadata": {
    "colab": {
      "provenance": [],
      "include_colab_link": true
    },
    "kernelspec": {
      "name": "python3",
      "display_name": "Python 3"
    },
    "language_info": {
      "name": "python"
    }
  },
  "cells": [
    {
      "cell_type": "markdown",
      "metadata": {
        "id": "view-in-github",
        "colab_type": "text"
      },
      "source": [
        "<a href=\"https://colab.research.google.com/github/riy08ya/class/blob/main/Copy_of_TugasInheritanceSiswa2.ipynb\" target=\"_parent\"><img src=\"https://colab.research.google.com/assets/colab-badge.svg\" alt=\"Open In Colab\"/></a>"
      ]
    },
    {
      "cell_type": "markdown",
      "source": [
        "Buatlah tiga kelas: User, Siswa, dan Guru. Class Siswa dan Guru mewarisi atribute dan fungsi dari class User. Keduanya menambahkan atribut dan fungsi tambahan sesuai dengan peran masing-masing.\n",
        "\n",
        "Output dari program ini akan menampilkan informasi seorang siswa dan seorang guru dengan menggunakan fungsi tampil_info() yang diwarisi dari class User. Untuk info user yang ditampilkan silakan ditentukan sendiri minimal ada nama dan umur.\n",
        "\n",
        "Untuk informasi khusus dari siswa dan guru silakan tentukan sendiri, minimal satu atribute tambahan yang membedakan antara siswa dan guru."
      ],
      "metadata": {
        "id": "oWYx5WDsIouf"
      }
    },
    {
      "cell_type": "code",
      "execution_count": 7,
      "metadata": {
        "id": "VQWWW4rpH9ve"
      },
      "outputs": [],
      "source": [
        "#Class User\n",
        "class User:\n",
        "  def __init__(self, name, umur):\n",
        "    self.name = name\n",
        "    self.umur = umur\n",
        "\n",
        "  def tampil_info(self):\n",
        "    pass"
      ]
    },
    {
      "cell_type": "code",
      "source": [
        "#Class Siswa\n",
        "class Siswa(User):\n",
        "  def __init__(self, name, umur, kelas, jurusan):\n",
        "    super().__init__(name, umur)\n",
        "    self.kelas = kelas\n",
        "    self.jurusan = jurusan\n",
        "\n",
        "  def tampil_info(self):\n",
        "    print(f\"perkenalkan nama saya {self.name},umur saya {self.umur} tahun dari kelas {self.kelas},jurusan saya {self.jurusan}\")"
      ],
      "metadata": {
        "id": "i_iBjMciJJc5"
      },
      "execution_count": 8,
      "outputs": []
    },
    {
      "cell_type": "code",
      "source": [
        "#Class Guru\n",
        "class Guru(User):\n",
        "  def __init__(self, name, umur, mapel):\n",
        "    super().__init__(name, umur)\n",
        "    self.mapel = mapel\n",
        "\n",
        "  def tampil_info(self):\n",
        "    print(f\"perkenalkan nama saya {self.name}, umur saya {self.umur} tahun, saya disekolah menggajar {self.mapel}.\")"
      ],
      "metadata": {
        "id": "lrnlKm6sJMjp"
      },
      "execution_count": 9,
      "outputs": []
    },
    {
      "cell_type": "code",
      "source": [
        "#Program utama untuk menampilkan info\n",
        "siswa = Siswa(\"Sasa\", 16, \"X Animasi 2\", \"Animasi\")\n",
        "guru = Guru(\"Taufiq\", 25, \"Matematika\")\n",
        "\n",
        "siswa.tampil_info()\n",
        "print()\n",
        "guru.tampil_info()"
      ],
      "metadata": {
        "id": "VDGIma_2JOVx",
        "colab": {
          "base_uri": "https://localhost:8080/"
        },
        "outputId": "76fc623c-8f9d-4550-8107-be92bb420080"
      },
      "execution_count": 11,
      "outputs": [
        {
          "output_type": "stream",
          "name": "stdout",
          "text": [
            "perkenalkan nama saya Sasa,umur saya 16 tahun dari kelas X Animasi 2,jurusan saya Animasi\n",
            "\n",
            "perkenalkan nama saya Taufiq, umur saya 25 tahun, saya disekolah menggajar Matematika.\n"
          ]
        }
      ]
    }
  ]
}